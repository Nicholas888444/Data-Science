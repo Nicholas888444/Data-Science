{
 "cells": [
  {
   "cell_type": "markdown",
   "id": "06936d44-7e35-41c7-a919-4d54df5263d8",
   "metadata": {},
   "source": [
    "# Testing Normal Distribution"
   ]
  },
  {
   "cell_type": "markdown",
   "id": "745f74f0-31ef-4424-bb78-a39bb732389a",
   "metadata": {},
   "source": [
    "To test whether a data series follows a normal distribution, you can use statistical tests or visual methods. \n",
    "\n",
    "**Visual Inspection**: Plot a histogram of the data and visually inspect its shape. A normal distribution typically appears as a symmetric, bell-shaped curve.\n",
    "\n",
    "**Statistical Tests**: Shapiro-Wilk test can be used to test whether your data is normally distributed. This test evaluates the null hypothesis that a sample comes from a normally distributed population. Low p-values (< 0.05) indicate that the data significantly deviates from a normal distribution."
   ]
  },
  {
   "cell_type": "markdown",
   "id": "8a346752-e411-4926-8530-c3e0a985cefc",
   "metadata": {},
   "source": [
    "In this tutorial, we are going to explore the Titanic dataset to figure out whether passengers' age is normally distributed."
   ]
  },
  {
   "cell_type": "markdown",
   "id": "805c80f0-c493-4aa9-9cec-517993912397",
   "metadata": {},
   "source": [
    "### Step 1: Import the Required Libraries"
   ]
  },
  {
   "cell_type": "code",
   "execution_count": 1,
   "id": "7044d698-cdf9-4e99-b07c-77efbff404fe",
   "metadata": {},
   "outputs": [],
   "source": [
    "import pandas as pd\n",
    "import matplotlib.pyplot as plt\n",
    "from scipy.stats import shapiro"
   ]
  },
  {
   "cell_type": "markdown",
   "id": "3dc67f51-12c0-4965-9df7-105c0c4cb5f7",
   "metadata": {},
   "source": [
    "### Step 2: Load the Dataset"
   ]
  },
  {
   "cell_type": "code",
   "execution_count": 2,
   "id": "f102a87f-608a-4c47-8d3f-7e675998224d",
   "metadata": {},
   "outputs": [
    {
     "data": {
      "text/html": [
       "<div>\n",
       "<style scoped>\n",
       "    .dataframe tbody tr th:only-of-type {\n",
       "        vertical-align: middle;\n",
       "    }\n",
       "\n",
       "    .dataframe tbody tr th {\n",
       "        vertical-align: top;\n",
       "    }\n",
       "\n",
       "    .dataframe thead th {\n",
       "        text-align: right;\n",
       "    }\n",
       "</style>\n",
       "<table border=\"1\" class=\"dataframe\">\n",
       "  <thead>\n",
       "    <tr style=\"text-align: right;\">\n",
       "      <th></th>\n",
       "      <th>Survived</th>\n",
       "      <th>Pclass</th>\n",
       "      <th>Name</th>\n",
       "      <th>Sex</th>\n",
       "      <th>Age</th>\n",
       "      <th>Siblings/Spouses Aboard</th>\n",
       "      <th>Parents/Children Aboard</th>\n",
       "      <th>Fare</th>\n",
       "    </tr>\n",
       "  </thead>\n",
       "  <tbody>\n",
       "    <tr>\n",
       "      <th>0</th>\n",
       "      <td>0</td>\n",
       "      <td>3</td>\n",
       "      <td>Mr. Owen Harris Braund</td>\n",
       "      <td>male</td>\n",
       "      <td>22.0</td>\n",
       "      <td>1</td>\n",
       "      <td>0</td>\n",
       "      <td>7.2500</td>\n",
       "    </tr>\n",
       "    <tr>\n",
       "      <th>1</th>\n",
       "      <td>1</td>\n",
       "      <td>1</td>\n",
       "      <td>Mrs. John Bradley (Florence Briggs Thayer) Cum...</td>\n",
       "      <td>female</td>\n",
       "      <td>38.0</td>\n",
       "      <td>1</td>\n",
       "      <td>0</td>\n",
       "      <td>71.2833</td>\n",
       "    </tr>\n",
       "    <tr>\n",
       "      <th>2</th>\n",
       "      <td>1</td>\n",
       "      <td>3</td>\n",
       "      <td>Miss. Laina Heikkinen</td>\n",
       "      <td>female</td>\n",
       "      <td>26.0</td>\n",
       "      <td>0</td>\n",
       "      <td>0</td>\n",
       "      <td>7.9250</td>\n",
       "    </tr>\n",
       "    <tr>\n",
       "      <th>3</th>\n",
       "      <td>1</td>\n",
       "      <td>1</td>\n",
       "      <td>Mrs. Jacques Heath (Lily May Peel) Futrelle</td>\n",
       "      <td>female</td>\n",
       "      <td>35.0</td>\n",
       "      <td>1</td>\n",
       "      <td>0</td>\n",
       "      <td>53.1000</td>\n",
       "    </tr>\n",
       "    <tr>\n",
       "      <th>4</th>\n",
       "      <td>0</td>\n",
       "      <td>3</td>\n",
       "      <td>Mr. William Henry Allen</td>\n",
       "      <td>male</td>\n",
       "      <td>35.0</td>\n",
       "      <td>0</td>\n",
       "      <td>0</td>\n",
       "      <td>8.0500</td>\n",
       "    </tr>\n",
       "  </tbody>\n",
       "</table>\n",
       "</div>"
      ],
      "text/plain": [
       "   Survived  Pclass                                               Name  \\\n",
       "0         0       3                             Mr. Owen Harris Braund   \n",
       "1         1       1  Mrs. John Bradley (Florence Briggs Thayer) Cum...   \n",
       "2         1       3                              Miss. Laina Heikkinen   \n",
       "3         1       1        Mrs. Jacques Heath (Lily May Peel) Futrelle   \n",
       "4         0       3                            Mr. William Henry Allen   \n",
       "\n",
       "      Sex   Age  Siblings/Spouses Aboard  Parents/Children Aboard     Fare  \n",
       "0    male  22.0                        1                        0   7.2500  \n",
       "1  female  38.0                        1                        0  71.2833  \n",
       "2  female  26.0                        0                        0   7.9250  \n",
       "3  female  35.0                        1                        0  53.1000  \n",
       "4    male  35.0                        0                        0   8.0500  "
      ]
     },
     "execution_count": 2,
     "metadata": {},
     "output_type": "execute_result"
    }
   ],
   "source": [
    "df = pd.read_csv(\"https://raw.githubusercontent.com/yangliuiuk/data/main/titanic.csv\")\n",
    "df.head()"
   ]
  },
  {
   "cell_type": "markdown",
   "id": "abde17c5-338b-4e0f-97d9-6b22c7fd61be",
   "metadata": {},
   "source": [
    "### Step 3: Remove Missing Values"
   ]
  },
  {
   "cell_type": "code",
   "execution_count": 3,
   "id": "9c2b7897-9082-41f0-90da-1342185936d8",
   "metadata": {},
   "outputs": [],
   "source": [
    "# Filter out missing values in the 'Age' column\n",
    "age_data = df['Age'].dropna()"
   ]
  },
  {
   "cell_type": "markdown",
   "id": "9d365eaa-0a50-442f-978a-effe75d3b2c5",
   "metadata": {},
   "source": [
    "### Step 4: Creating a Histogram"
   ]
  },
  {
   "cell_type": "code",
   "execution_count": 4,
   "id": "0b3c79ac-a430-4413-8dc9-b21efc68a6a8",
   "metadata": {},
   "outputs": [
    {
     "data": {
      "image/png": "[encoded data removed]",
      "text/plain": [
       "<Figure size 1000x600 with 1 Axes>"
      ]
     },
     "metadata": {},
     "output_type": "display_data"
    }
   ],
   "source": [
    "# Plot the histogram\n",
    "plt.figure(figsize=(10, 6))\n",
    "plt.hist(age_data, bins=20, color='skyblue', edgecolor='black')\n",
    "plt.title('Age Distribution of Titanic Passengers')\n",
    "plt.xlabel('Age')\n",
    "plt.ylabel('Frequency')\n",
    "plt.grid(True)\n",
    "plt.show()"
   ]
  },
  {
   "cell_type": "markdown",
   "id": "4be1fae9-5ad0-412a-bc34-41136f540ed9",
   "metadata": {},
   "source": [
    "From the histrogram, we can see that the shape of the graph is not symmetric, indicating the age distribution is not normal"
   ]
  },
  {
   "cell_type": "markdown",
   "id": "6b97e52c-c1af-40fb-b5b5-bc1dc35f7992",
   "metadata": {},
   "source": [
    "### Step 5: Test Normal Distribution"
   ]
  },
  {
   "cell_type": "code",
   "execution_count": 5,
   "id": "31e78018-fbee-422f-ade6-798bd869d757",
   "metadata": {},
   "outputs": [
    {
     "name": "stdout",
     "output_type": "stream",
     "text": [
      "P-value is: 0.000\n",
      "Sample does not look Gaussian (reject H0)\n"
     ]
    }
   ],
   "source": [
    "# Assuming 'data' is your dataset\n",
    "statistic, p_value = shapiro(age_data)\n",
    "\n",
    "print(f\"P-value is: {p_value:.3f}\")\n",
    "\n",
    "# Interpret the results\n",
    "alpha = 0.05\n",
    "if p_value > alpha:\n",
    "    print(\"Sample looks Gaussian (fail to reject H0)\")\n",
    "else:\n",
    "    print(\"Sample does not look Gaussian (reject H0)\")"
   ]
  },
  {
   "cell_type": "code",
   "execution_count": 7,
   "id": "f98a4f49-0ba9-49f9-b0f9-603a1765b0d5",
   "metadata": {},
   "outputs": [],
   "source": [
    "s = pd.read_csv(\"https://raw.githubusercontent.com/Nicholas888444/Data-Science/main/HW2/data.csv\")"
   ]
  },
  {
   "cell_type": "code",
   "execution_count": null,
   "id": "74845a79-9917-4826-be92-e9973ebea165",
   "metadata": {},
   "outputs": [],
   "source": []
  }
 ],
 "metadata": {
  "kernelspec": {
   "display_name": "Python 3 (ipykernel)",
   "language": "python",
   "name": "python3"
  },
  "language_info": {
   "codemirror_mode": {
    "name": "ipython",
    "version": 3
   },
   "file_extension": ".py",
   "mimetype": "text/x-python",
   "name": "python",
   "nbconvert_exporter": "python",
   "pygments_lexer": "ipython3",
   "version": "3.10.11"
  }
 },
 "nbformat": 4,
 "nbformat_minor": 5
}
