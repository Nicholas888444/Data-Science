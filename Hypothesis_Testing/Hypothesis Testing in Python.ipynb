{
 "cells": [
  {
   "cell_type": "markdown",
   "id": "7c10ff29-499a-4a2f-9d85-9941a63444d8",
   "metadata": {},
   "source": [
    "# Hypothesis Testing in Python"
   ]
  },
  {
   "cell_type": "markdown",
   "id": "9f54855f-6f26-40fa-963d-28534f67bec3",
   "metadata": {},
   "source": [
    "### Introduction\n",
    "Hypothesis testing is a fundamental concept in statistics used to make inferences about a population based on sample data. In this tutorial, we'll learn how to perform hypothesis testing in Python using the scipy.stats module."
   ]
  },
  {
   "cell_type": "markdown",
   "id": "39357c11-c285-49d8-b25e-833c8f490a81",
   "metadata": {},
   "source": [
    "### Table of Contents\n",
    "\n",
    "1.Background \r\n",
    "\r\n",
    "2.One-Sample t-test \r\n",
    " \r\n",
    "3.Two-Sample t-test \r\n",
    "\r\n",
    "4.Paired-Samplest est"
   ]
  },
  {
   "cell_type": "markdown",
   "id": "4f440d3d-8a96-4ced-bbb7-4d2a2af410d2",
   "metadata": {},
   "source": [
    "### Background\n",
    "**What is Hypothesis Testing?**\n",
    "\r\n",
    "Hypothesis testing is a statistical method used to make inferences about a population parameter based on sample data. It involves two competing hypotheses: the null hypothesis (H0) and the alternative hypothesis (H1). The goal is to determine whether the observed data provide enough evidence to reject the null hypothesis in favor of the alternative hypothesis\n",
    "\n",
    "**Key Concepts**\n",
    "- **Null Hypothesis (H0)**: The default assumption that there is no significant difference or effect.\r\n",
    "- **Alternative Hypothesis (H1)**: The hypothesis that contradicts the null hypothesis and suggests a significant difference or effect.\r\n",
    "- **Test Statistic**: A numerical summary of the sample data used to assess the likelihood of observing the data under the null hypothesis.\r\n",
    "- **P-value**: The probability of observing the test statistic or more extreme values under the null hypothesis. A small p-value indicates strong evidence against the null hypothesis. s. ."
   ]
  },
  {
   "cell_type": "markdown",
   "id": "08b2ca8e-fe6d-471a-8ecd-60a5484b9b50",
   "metadata": {},
   "source": [
    "### One-Sample t-test\n",
    "The one-sample t-test is used to compare the mean of a single sample to a known population mean or a hypothesized value.\n",
    "\n",
    "Suppose we have a sample of exam scores and want to test whether the average score is significantly different from 75.\n",
    "\n",
    "Null Hypothesis (H0): The average exam score is equal to 75.\n",
    "\r\n",
    "Alternative Hypothesis (H1): The average exam score is not equal to 75."
   ]
  },
  {
   "cell_type": "code",
   "execution_count": 1,
   "id": "870ce3bb-c125-42ab-a619-8f3fd535e02f",
   "metadata": {},
   "outputs": [
    {
     "name": "stdout",
     "output_type": "stream",
     "text": [
      "t-statistic: 2.363295183657119\n",
      "p-value: 0.042371967997997174\n"
     ]
    }
   ],
   "source": [
    "import numpy as np\n",
    "from scipy import stats\n",
    "\n",
    "# Sample data\n",
    "scores = np.array([70, 85, 78, 90, 82, 88, 75, 80, 72, 79])\n",
    "\n",
    "# Hypothesized mean\n",
    "hypothesized_mean = 75\n",
    "\n",
    "# Perform one-sample t-test\n",
    "t_statistic, p_value = stats.ttest_1samp(scores, hypothesized_mean)\n",
    "\n",
    "# Print results\n",
    "print(\"t-statistic:\", t_statistic)\n",
    "print(\"p-value:\", p_value)"
   ]
  },
  {
   "cell_type": "markdown",
   "id": "0b1ca943-6aa0-4357-ae86-677f63e5a64a",
   "metadata": {},
   "source": [
    "Because the p-value is less than the chosen significance level (e.g., 0.05), we reject the null hypothesis and conclude that there is sufficient evidence to suggest that the average exam score is significantly different from 75."
   ]
  },
  {
   "cell_type": "markdown",
   "id": "7ac63aa8-f5a7-4c3f-8081-a0cc19bb49d0",
   "metadata": {},
   "source": [
    "To test whether the average score is significantly greater than 75, we need a one-tailed test.\n",
    "\n",
    "Null Hypothesis (H0): The average exam score is equal to 75.\n",
    "\r\n",
    "Alternative Hypothesis (H1): The average exam score is greater than 75."
   ]
  },
  {
   "cell_type": "code",
   "execution_count": 2,
   "id": "b66a4d92-c9fe-4e9a-9007-9ffaa826b654",
   "metadata": {},
   "outputs": [
    {
     "name": "stdout",
     "output_type": "stream",
     "text": [
      "t-statistic: 2.363295183657119\n",
      "p-value: 0.021185983998998587\n"
     ]
    }
   ],
   "source": [
    "# Perform one-sample one-tailed t-test (greater than)\n",
    "t_statistic, p_value = stats.ttest_1samp(scores, hypothesized_mean, alternative='greater')\n",
    "\n",
    "# Print results\n",
    "print(\"t-statistic:\", t_statistic)\n",
    "print(\"p-value:\", p_value)"
   ]
  },
  {
   "cell_type": "markdown",
   "id": "0c47dafc-2468-426e-b564-ddd49a651bde",
   "metadata": {},
   "source": [
    "Because the p-value is less than the chosen significance level (e.g., 0.05), we reject the null hypothesis and conclude that there is sufficient evidence to suggest that the average exam score is significantly greater than 75."
   ]
  },
  {
   "cell_type": "markdown",
   "id": "9ba8395a-82da-49e2-96cf-5653b8d7623a",
   "metadata": {},
   "source": [
    "### Two-Sample t-test\n",
    "The two-sample t-test is used to compare the means of two independent samples.\n",
    "\n",
    "Suppose we have two groups of students (Group A and Group B) and want to test whether there is a significant difference in their exam scores.\n",
    "\n",
    "Null Hypothesis (H0): The means of the two groups are equal.\n",
    "\r\n",
    "Alternative Hypothesis (H1): The means of the two groups are not equal."
   ]
  },
  {
   "cell_type": "code",
   "execution_count": 3,
   "id": "31df921f-6832-498b-ba88-3788c8f99ad8",
   "metadata": {},
   "outputs": [
    {
     "name": "stdout",
     "output_type": "stream",
     "text": [
      "t-statistic: 0.5082037759680839\n",
      "p-value: 0.6250241578486049\n"
     ]
    }
   ],
   "source": [
    "# Sample data\n",
    "scores_group_a = np.array([70, 85, 78, 90, 82])\n",
    "scores_group_b = np.array([72, 79, 75, 80, 88])\n",
    "\n",
    "# Perform two-sample t-test\n",
    "t_statistic, p_value = stats.ttest_ind(scores_group_a, scores_group_b)\n",
    "\n",
    "# Print results\n",
    "print(\"t-statistic:\", t_statistic)\n",
    "print(\"p-value:\", p_value)"
   ]
  },
  {
   "cell_type": "markdown",
   "id": "8357687e-8ca4-46db-9030-a98066225f04",
   "metadata": {},
   "source": [
    "Because the p-value is not less than the chosen significance level, we don't reject the null hypothesis and don't conclude that there is sufficient evidence to suggest that the means of the two groups are significantly different."
   ]
  },
  {
   "cell_type": "markdown",
   "id": "c698afd6-2b35-4dc0-9f52-1d324a83c052",
   "metadata": {},
   "source": [
    "To test whether the exam score of group A is significantly greather than that of group B, we need a one-tailed test.\n",
    "\n",
    "Null Hypothesis (H0): The mean of Group A is equal to the mean of Group B.\n",
    "\n",
    "Alternative Hypothesis (H1):: The mean of Group A is greater than the mean of Group B.."
   ]
  },
  {
   "cell_type": "code",
   "execution_count": 4,
   "id": "a2ea3185-d549-4879-9d85-949c8bd8a9e4",
   "metadata": {},
   "outputs": [
    {
     "name": "stdout",
     "output_type": "stream",
     "text": [
      "t-statistic: 0.5082037759680839\n",
      "p-value: 0.31251207892430244\n"
     ]
    }
   ],
   "source": [
    "import numpy as np\n",
    "from scipy import stats\n",
    "\n",
    "# Sample data for Group A and Group B\n",
    "scores_group_a = np.array([70, 85, 78, 90, 82])\n",
    "scores_group_b = np.array([72, 79, 75, 80, 88])\n",
    "\n",
    "# Perform one-tailed two-sample t-test (Greater Than)\n",
    "t_statistic, p_value = stats.ttest_ind(scores_group_a, scores_group_b, alternative='greater')\n",
    "\n",
    "# Print results\n",
    "print(\"t-statistic:\", t_statistic)\n",
    "print(\"p-value:\", p_value)"
   ]
  },
  {
   "cell_type": "markdown",
   "id": "934d1823-3cee-4cee-83ef-2d0452d362a6",
   "metadata": {},
   "source": [
    "Because the p-value is not less than the chosen significance level, we don't reject the null hypothesis and don't conclude that there is sufficient evidence to suggest that the mean of Group A is significantly greater than the mean of Group B."
   ]
  },
  {
   "cell_type": "markdown",
   "id": "5964edbf-396a-4581-9664-99d36e02aa81",
   "metadata": {},
   "source": [
    "### Paired-Sample t-test\n"
   ]
  },
  {
   "cell_type": "markdown",
   "id": "ac8f1666-7c50-4331-8070-bbcfb924c61d",
   "metadata": {},
   "source": [
    "The paired sample t-test is a statistical test used to determine whether the mean difference between two related groups is significantly different from zero. It is specifically designed for situations where the same subjects or items are measured or observed under two different conditions, treatments, or time points.\n",
    "\n",
    "Suppose you are conducting a study to evaluate the effectiveness of a new treatment for lowering blood pressure. You measure the blood pressure of the same group of individuals before and after receiving the treatment. You want to determine whether there is a significant difference in blood pressure before and after the treatment.\n",
    "\n",
    "Null Hypothesis (H0): The mean blood pressure before treatment is equal to the mean blood pressure after treatment.\n",
    "\r\n",
    "Alternative Hypothesis (H1): The mean blood pressure before treatment is different from the mean blood pressure after treatment."
   ]
  },
  {
   "cell_type": "code",
   "execution_count": 5,
   "id": "87acacb0-7a3b-4f22-9871-2050b0a2064e",
   "metadata": {},
   "outputs": [
    {
     "name": "stdout",
     "output_type": "stream",
     "text": [
      "Paired Sample t-test Results:\n",
      "t-statistic: 8.241955141918908\n",
      "p-value: 0.0011818615271342995\n"
     ]
    }
   ],
   "source": [
    "import numpy as np\n",
    "from scipy import stats\n",
    "\n",
    "# Sample data for paired observations (blood pressure before and after treatment)\n",
    "before = np.array([120, 130, 125, 140, 135])  # Blood pressure before treatment (mmHg)\n",
    "after = np.array([110, 125, 115, 132, 124])   # Blood pressure after treatment (mmHg)\n",
    "\n",
    "# Perform paired sample t-test\n",
    "t_statistic, p_value = stats.ttest_rel(before, after)\n",
    "\n",
    "# Print results\n",
    "print(\"Paired Sample t-test Results:\")\n",
    "print(\"t-statistic:\", t_statistic)\n",
    "print(\"p-value:\", p_value)"
   ]
  },
  {
   "cell_type": "markdown",
   "id": "5dbda0b1-4eea-4379-8a20-a0546a97fc70",
   "metadata": {},
   "source": [
    "Because the p-value is less than the chosen significance level (e.g., 0.05), we reject the null hypothesis and conclude that there is a significant difference in blood pressure before and after the treatment."
   ]
  },
  {
   "cell_type": "markdown",
   "id": "af6a20fa-36db-432d-9baf-149996d9e895",
   "metadata": {},
   "source": [
    "To test if the mean blood pressure after treatment is significantly lower than the mean blood pressure before treatment, we need a one-tailed test.\n",
    "\n",
    "Null Hypothesis (H0): The mean blood pressure before treatment is equal to the mean blood pressure after treatment.\n",
    "\n",
    "Alternative Hypothesis (H1): The mean blood pressure after treatment is lower than the mean blood pressure before treatment."
   ]
  },
  {
   "cell_type": "code",
   "execution_count": 6,
   "id": "3724ed2d-aeaa-49aa-8e76-8927294b50cf",
   "metadata": {},
   "outputs": [
    {
     "name": "stdout",
     "output_type": "stream",
     "text": [
      "One-Tailed Paired Sample t-test Results (Lower Than):\n",
      "t-statistic: 8.241955141918908\n",
      "p-value: 0.0005909307635671498\n"
     ]
    }
   ],
   "source": [
    "import numpy as np\n",
    "from scipy import stats\n",
    "\n",
    "# Sample data for paired observations (blood pressure before and after treatment)\n",
    "before = np.array([120, 130, 125, 140, 135])  # Blood pressure before treatment (mmHg)\n",
    "after = np.array([110, 125, 115, 132, 124])   # Blood pressure after treatment (mmHg)\n",
    "\n",
    "# Perform one-tailed paired sample t-test (Lower Than)\n",
    "t_statistic, p_value = stats.ttest_rel(before, after)\n",
    "\n",
    "# Print results\n",
    "print(\"One-Tailed Paired Sample t-test Results (Lower Than):\")\n",
    "print(\"t-statistic:\", t_statistic)\n",
    "print(\"p-value:\", p_value/2)  # Divide p-value by 2 for one-tailed test"
   ]
  },
  {
   "cell_type": "markdown",
   "id": "911d3da3-bb79-4164-846e-0b21e3c9927a",
   "metadata": {},
   "source": [
    "Because the p-value is less than the chosen significance level, we reject the null hypothesis and conclude that the mean blood pressure after treatment is lower than the mean blood pressure before treatment."
   ]
  },
  {
   "cell_type": "markdown",
   "id": "a71dca8b-12b4-46d9-8dac-28f1be25304c",
   "metadata": {},
   "source": [
    "To test if the mean blood pressure after treatment is significantly higher than the mean blood pressure before treatment, we need another one-tailed test.\n",
    "\n",
    "Null Hypothesis (H0): The mean blood pressure before treatment is equal to the mean blood pressure after treatment.\n",
    "\n",
    "Alternative Hypothesis (H1): The mean blood pressure after treatment is higher than the mean blood pressure before treatment."
   ]
  },
  {
   "cell_type": "code",
   "execution_count": 7,
   "id": "95d2553b-f595-49c0-8a72-40428e9899c5",
   "metadata": {},
   "outputs": [
    {
     "name": "stdout",
     "output_type": "stream",
     "text": [
      "One-Tailed Paired Sample t-test Results (Higher Than):\n",
      "t-statistic: 8.241955141918908\n",
      "p-value: 0.9994090692364328\n"
     ]
    }
   ],
   "source": [
    "import numpy as np\n",
    "from scipy import stats\n",
    "\n",
    "# Sample data for paired observations (blood pressure before and after treatment)\n",
    "before = np.array([120, 130, 125, 140, 135])  # Blood pressure before treatment (mmHg)\n",
    "after = np.array([110, 125, 115, 132, 124])   # Blood pressure after treatment (mmHg)\n",
    "\n",
    "# Perform one-tailed paired sample t-test (Higher Than)\n",
    "t_statistic, p_value = stats.ttest_rel(before, after)\n",
    "\n",
    "# Print results\n",
    "print(\"One-Tailed Paired Sample t-test Results (Higher Than):\")\n",
    "print(\"t-statistic:\", t_statistic)\n",
    "print(\"p-value:\", 1 - p_value/2)  # Use 1 - p_value/2 for higher than one-tailed test"
   ]
  },
  {
   "cell_type": "markdown",
   "id": "09bd8310-572d-461e-be3a-b524be68b82f",
   "metadata": {},
   "source": [
    "Because the p-value is not less than the chosen significance level, we cannot reject the null hypothesis and cannot conclude that the mean blood pressure after treatment is lower than the mean blood pressure before treatment."
   ]
  },
  {
   "cell_type": "code",
   "execution_count": null,
   "id": "45346cbd-1c4f-4a96-8c5f-214553b56d59",
   "metadata": {},
   "outputs": [],
   "source": []
  }
 ],
 "metadata": {
  "kernelspec": {
   "display_name": "Python 3 (ipykernel)",
   "language": "python",
   "name": "python3"
  },
  "language_info": {
   "codemirror_mode": {
    "name": "ipython",
    "version": 3
   },
   "file_extension": ".py",
   "mimetype": "text/x-python",
   "name": "python",
   "nbconvert_exporter": "python",
   "pygments_lexer": "ipython3",
   "version": "3.10.11"
  }
 },
 "nbformat": 4,
 "nbformat_minor": 5
}
